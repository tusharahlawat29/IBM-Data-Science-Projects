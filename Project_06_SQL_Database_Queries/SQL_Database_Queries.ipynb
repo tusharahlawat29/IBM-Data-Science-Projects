{
 "cells": [
  {
   "cell_type": "markdown",
   "id": "10fbee17-b076-468c-b91c-417d4019664c",
   "metadata": {},
   "source": [
    "# Project 06: SQL Database Queries with SQLite\n",
    "\n",
    "## Overview\n",
    "In this project, we explore how to interact with a SQLite database using Python. The focus is on writing SQL queries to extract, filter, join, and aggregate customer orders data.\n",
    "\n",
    "## Objective\n",
    "- Connect to a SQLite database using Python.\n",
    "- Learn basic SQL commands: SELECT, WHERE, JOIN, GROUP BY.\n",
    "- Retrieve meaningful insights from the database.\n",
    "- Understand integration of SQL with Python scripts.\n"
   ]
  },
  {
   "cell_type": "markdown",
   "id": "2956feaf-88c0-4099-9d24-619269518173",
   "metadata": {},
   "source": [
    "## Step 1: Import libraries  \n",
    "We use `sqlite3` to connect and query SQLite databases, and `pandas` to handle data in tabular form.\n"
   ]
  },
  {
   "cell_type": "code",
   "execution_count": 1,
   "id": "fe0a4e59-79e4-4842-85dc-526d4615a2c2",
   "metadata": {},
   "outputs": [],
   "source": [
    "import sqlite3\n",
    "import pandas as pd"
   ]
  },
  {
   "cell_type": "markdown",
   "id": "ca90af40-fcf2-47c2-a40e-27d714b8fede",
   "metadata": {},
   "source": [
    "## Step 2: Database connection  \n",
    "We connect to an existing SQLite database or create a new one if it doesn't exist.\n"
   ]
  },
  {
   "cell_type": "code",
   "execution_count": 5,
   "id": "4923365b-807e-47d2-91ef-33e0d1b12823",
   "metadata": {},
   "outputs": [],
   "source": [
    "conn = sqlite3.connect('customer_orders.db')\n",
    "cursor = conn.cursor()"
   ]
  },
  {
   "cell_type": "markdown",
   "id": "bde340be-0eba-4a27-9375-cb626f1eb4ad",
   "metadata": {},
   "source": [
    "## Step 3: Create tables and insert sample data  \n",
    "If no database exists, we create customers and orders tables, then add some example data for querying.\n"
   ]
  },
  {
   "cell_type": "code",
   "execution_count": 6,
   "id": "a2ee718c-b086-413b-90d2-0abb5bdd06f2",
   "metadata": {},
   "outputs": [],
   "source": [
    "cursor.execute('''\n",
    "CREATE TABLE IF NOT EXISTS customers (\n",
    "    customer_id INTEGER PRIMARY KEY,\n",
    "    name TEXT,\n",
    "    city TEXT\n",
    ")\n",
    "''')\n",
    "\n",
    "cursor.execute('''\n",
    "CREATE TABLE IF NOT EXISTS orders (\n",
    "    order_id INTEGER PRIMARY KEY,\n",
    "    customer_id INTEGER,\n",
    "    order_date TEXT,\n",
    "    amount REAL,\n",
    "    FOREIGN KEY(customer_id) REFERENCES customers(customer_id)\n",
    ")\n",
    "''')\n",
    "\n",
    "cursor.execute(\"INSERT INTO customers (name, city) VALUES ('Alice', 'New York')\")\n",
    "cursor.execute(\"INSERT INTO customers (name, city) VALUES ('Bob', 'Los Angeles')\")\n",
    "cursor.execute(\"INSERT INTO orders (customer_id, order_date, amount) VALUES (1, '2023-01-10', 250.0)\")\n",
    "cursor.execute(\"INSERT INTO orders (customer_id, order_date, amount) VALUES (2, '2023-01-11', 450.5)\")\n",
    "conn.commit()\n"
   ]
  },
  {
   "cell_type": "markdown",
   "id": "7f155c77-1d8e-49ec-bee9-deafc9ccb252",
   "metadata": {},
   "source": [
    "## Step 4: Query all customers  \n",
    "Retrieve all customers from the database and display as a DataFrame.\n"
   ]
  },
  {
   "cell_type": "code",
   "execution_count": 8,
   "id": "205d28b2-a599-4817-996c-f88a94ba6d28",
   "metadata": {},
   "outputs": [
    {
     "data": {
      "text/html": [
       "<div>\n",
       "<style scoped>\n",
       "    .dataframe tbody tr th:only-of-type {\n",
       "        vertical-align: middle;\n",
       "    }\n",
       "\n",
       "    .dataframe tbody tr th {\n",
       "        vertical-align: top;\n",
       "    }\n",
       "\n",
       "    .dataframe thead th {\n",
       "        text-align: right;\n",
       "    }\n",
       "</style>\n",
       "<table border=\"1\" class=\"dataframe\">\n",
       "  <thead>\n",
       "    <tr style=\"text-align: right;\">\n",
       "      <th></th>\n",
       "      <th>customer_id</th>\n",
       "      <th>name</th>\n",
       "      <th>city</th>\n",
       "    </tr>\n",
       "  </thead>\n",
       "  <tbody>\n",
       "    <tr>\n",
       "      <th>0</th>\n",
       "      <td>1</td>\n",
       "      <td>Alice</td>\n",
       "      <td>New York</td>\n",
       "    </tr>\n",
       "    <tr>\n",
       "      <th>1</th>\n",
       "      <td>2</td>\n",
       "      <td>Bob</td>\n",
       "      <td>Los Angeles</td>\n",
       "    </tr>\n",
       "  </tbody>\n",
       "</table>\n",
       "</div>"
      ],
      "text/plain": [
       "   customer_id   name         city\n",
       "0            1  Alice     New York\n",
       "1            2    Bob  Los Angeles"
      ]
     },
     "execution_count": 8,
     "metadata": {},
     "output_type": "execute_result"
    }
   ],
   "source": [
    "customers_df = pd.read_sql_query(\"SELECT * FROM customers\", conn)\n",
    "customers_df\n"
   ]
  },
  {
   "cell_type": "markdown",
   "id": "33140510-9351-4e49-99ac-4b05dbc8ef63",
   "metadata": {},
   "source": [
    "## Step 5: Filter customers by city  \n",
    "Select customers who are based in New York.\n"
   ]
  },
  {
   "cell_type": "code",
   "execution_count": 9,
   "id": "4899a6cb-c467-4a46-b78e-f3f5c1e73b52",
   "metadata": {},
   "outputs": [
    {
     "data": {
      "text/html": [
       "<div>\n",
       "<style scoped>\n",
       "    .dataframe tbody tr th:only-of-type {\n",
       "        vertical-align: middle;\n",
       "    }\n",
       "\n",
       "    .dataframe tbody tr th {\n",
       "        vertical-align: top;\n",
       "    }\n",
       "\n",
       "    .dataframe thead th {\n",
       "        text-align: right;\n",
       "    }\n",
       "</style>\n",
       "<table border=\"1\" class=\"dataframe\">\n",
       "  <thead>\n",
       "    <tr style=\"text-align: right;\">\n",
       "      <th></th>\n",
       "      <th>customer_id</th>\n",
       "      <th>name</th>\n",
       "      <th>city</th>\n",
       "    </tr>\n",
       "  </thead>\n",
       "  <tbody>\n",
       "    <tr>\n",
       "      <th>0</th>\n",
       "      <td>1</td>\n",
       "      <td>Alice</td>\n",
       "      <td>New York</td>\n",
       "    </tr>\n",
       "  </tbody>\n",
       "</table>\n",
       "</div>"
      ],
      "text/plain": [
       "   customer_id   name      city\n",
       "0            1  Alice  New York"
      ]
     },
     "execution_count": 9,
     "metadata": {},
     "output_type": "execute_result"
    }
   ],
   "source": [
    "ny_customers = pd.read_sql_query(\"SELECT * FROM customers WHERE city = 'New York'\", conn)\n",
    "ny_customers\n"
   ]
  },
  {
   "cell_type": "markdown",
   "id": "4998be82-9b77-4874-a1ea-85dc9891ec20",
   "metadata": {},
   "source": [
    "## Step 6: Join tables  \n",
    "Get a combined view of orders along with customer names by joining the two tables.\n"
   ]
  },
  {
   "cell_type": "code",
   "execution_count": 12,
   "id": "8c8ea4e1-f9de-4c63-b4df-31a9c90f5ce3",
   "metadata": {},
   "outputs": [
    {
     "data": {
      "text/html": [
       "<div>\n",
       "<style scoped>\n",
       "    .dataframe tbody tr th:only-of-type {\n",
       "        vertical-align: middle;\n",
       "    }\n",
       "\n",
       "    .dataframe tbody tr th {\n",
       "        vertical-align: top;\n",
       "    }\n",
       "\n",
       "    .dataframe thead th {\n",
       "        text-align: right;\n",
       "    }\n",
       "</style>\n",
       "<table border=\"1\" class=\"dataframe\">\n",
       "  <thead>\n",
       "    <tr style=\"text-align: right;\">\n",
       "      <th></th>\n",
       "      <th>order_id</th>\n",
       "      <th>name</th>\n",
       "      <th>order_date</th>\n",
       "      <th>amount</th>\n",
       "    </tr>\n",
       "  </thead>\n",
       "  <tbody>\n",
       "    <tr>\n",
       "      <th>0</th>\n",
       "      <td>1</td>\n",
       "      <td>Alice</td>\n",
       "      <td>2023-01-10</td>\n",
       "      <td>250.0</td>\n",
       "    </tr>\n",
       "    <tr>\n",
       "      <th>1</th>\n",
       "      <td>2</td>\n",
       "      <td>Bob</td>\n",
       "      <td>2023-01-11</td>\n",
       "      <td>450.5</td>\n",
       "    </tr>\n",
       "  </tbody>\n",
       "</table>\n",
       "</div>"
      ],
      "text/plain": [
       "   order_id   name  order_date  amount\n",
       "0         1  Alice  2023-01-10   250.0\n",
       "1         2    Bob  2023-01-11   450.5"
      ]
     },
     "execution_count": 12,
     "metadata": {},
     "output_type": "execute_result"
    }
   ],
   "source": [
    "orders_with_customers = pd.read_sql_query('''\n",
    "SELECT orders.order_id, customers.name, orders.order_date, orders.amount\n",
    "FROM orders\n",
    "JOIN customers ON orders.customer_id = customers.customer_id\n",
    "''', conn)\n",
    "orders_with_customers\n"
   ]
  },
  {
   "cell_type": "markdown",
   "id": "c17c6f6c-3e1f-4b1f-a642-b9d49188b885",
   "metadata": {},
   "source": [
    "## Step 7: Aggregate data  \n",
    "Calculate the total amount each customer has spent.\n"
   ]
  },
  {
   "cell_type": "code",
   "execution_count": 13,
   "id": "f49490b2-24d9-40a1-abfb-28f32cc7bad4",
   "metadata": {},
   "outputs": [
    {
     "data": {
      "text/html": [
       "<div>\n",
       "<style scoped>\n",
       "    .dataframe tbody tr th:only-of-type {\n",
       "        vertical-align: middle;\n",
       "    }\n",
       "\n",
       "    .dataframe tbody tr th {\n",
       "        vertical-align: top;\n",
       "    }\n",
       "\n",
       "    .dataframe thead th {\n",
       "        text-align: right;\n",
       "    }\n",
       "</style>\n",
       "<table border=\"1\" class=\"dataframe\">\n",
       "  <thead>\n",
       "    <tr style=\"text-align: right;\">\n",
       "      <th></th>\n",
       "      <th>name</th>\n",
       "      <th>total_spent</th>\n",
       "    </tr>\n",
       "  </thead>\n",
       "  <tbody>\n",
       "    <tr>\n",
       "      <th>0</th>\n",
       "      <td>Alice</td>\n",
       "      <td>250.0</td>\n",
       "    </tr>\n",
       "    <tr>\n",
       "      <th>1</th>\n",
       "      <td>Bob</td>\n",
       "      <td>450.5</td>\n",
       "    </tr>\n",
       "  </tbody>\n",
       "</table>\n",
       "</div>"
      ],
      "text/plain": [
       "    name  total_spent\n",
       "0  Alice        250.0\n",
       "1    Bob        450.5"
      ]
     },
     "execution_count": 13,
     "metadata": {},
     "output_type": "execute_result"
    }
   ],
   "source": [
    "total_amounts = pd.read_sql_query('''\n",
    "SELECT customers.name, SUM(orders.amount) as total_spent\n",
    "FROM orders\n",
    "JOIN customers ON orders.customer_id = customers.customer_id\n",
    "GROUP BY customers.name\n",
    "''', conn)\n",
    "total_amounts\n"
   ]
  },
  {
   "cell_type": "markdown",
   "id": "f22a6113-ea8d-4732-a6ee-1f39f1127e0d",
   "metadata": {},
   "source": [
    "## Step 8: Close connection  \n",
    "Always close the connection to the database when done.\n"
   ]
  },
  {
   "cell_type": "code",
   "execution_count": 14,
   "id": "fc269413-6aa7-4a57-b663-1e7c3e16dd06",
   "metadata": {},
   "outputs": [],
   "source": [
    "conn.close()"
   ]
  },
  {
   "cell_type": "code",
   "execution_count": null,
   "id": "ddf54a69-23a1-4182-a2cf-36649e236065",
   "metadata": {},
   "outputs": [],
   "source": []
  }
 ],
 "metadata": {
  "kernelspec": {
   "display_name": "Python [conda env:base] *",
   "language": "python",
   "name": "conda-base-py"
  },
  "language_info": {
   "codemirror_mode": {
    "name": "ipython",
    "version": 3
   },
   "file_extension": ".py",
   "mimetype": "text/x-python",
   "name": "python",
   "nbconvert_exporter": "python",
   "pygments_lexer": "ipython3",
   "version": "3.12.7"
  }
 },
 "nbformat": 4,
 "nbformat_minor": 5
}
