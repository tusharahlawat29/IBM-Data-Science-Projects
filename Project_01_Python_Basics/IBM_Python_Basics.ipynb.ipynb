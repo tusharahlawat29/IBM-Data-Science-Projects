{
 "cells": [
  {
   "cell_type": "markdown",
   "id": "2afc05cd-a5d9-40aa-b19d-6d0b677a8a6a",
   "metadata": {},
   "source": [
    "# Project 1: Python Basics + Simple CSV Data Analysis\n",
    "\n",
    "In this project, we will:\n",
    "- Build a simple calculator using Python functions.\n",
    "- Load a CSV file with sample data.\n",
    "- Perform basic data analysis such as calculating mean, median, and mode on numeric columns.\n",
    "- Use markdown comments to explain what each step does.\n",
    "\n",
    "This helps demonstrate foundational Python skills and data handling with pandas.\n"
   ]
  },
  {
   "cell_type": "code",
   "execution_count": 2,
   "id": "5d7174a2-890a-48a4-86ef-83ea4a02c775",
   "metadata": {},
   "outputs": [
    {
     "name": "stdout",
     "output_type": "stream",
     "text": [
      "Simple Python Calculator\n",
      "Operations: +, -, *, /\n"
     ]
    },
    {
     "name": "stdin",
     "output_type": "stream",
     "text": [
      "Enter first number:  150160\n",
      "Enter operation (+, -, *, /):  /\n",
      "Enter second number:  142\n"
     ]
    },
    {
     "name": "stdout",
     "output_type": "stream",
     "text": [
      "Result: 1057.4647887323943\n"
     ]
    }
   ],
   "source": [
    "def calculator():\n",
    "    print(\"Simple Python Calculator\")\n",
    "    print(\"Operations: +, -, *, /\")\n",
    "    num1 = float(input(\"Enter first number: \"))\n",
    "    op = input(\"Enter operation (+, -, *, /): \")\n",
    "    num2 = float(input(\"Enter second number: \"))\n",
    "    \n",
    "    if op == '+':\n",
    "        result = num1 + num2\n",
    "    elif op == '-':\n",
    "        result = num1 - num2\n",
    "    elif op == '*':\n",
    "        result = num1 * num2\n",
    "    elif op == '/':\n",
    "        if num2 == 0:\n",
    "            result = \"Error! Division by zero.\"\n",
    "        else:\n",
    "            result = num1 / num2\n",
    "    else:\n",
    "        result = \"Invalid operation!\"\n",
    "    \n",
    "    print(f\"Result: {result}\")\n",
    "\n",
    "calculator()\n"
   ]
  },
  {
   "cell_type": "markdown",
   "id": "80d06d5b-11ad-44a6-b80d-009b379a243d",
   "metadata": {},
   "source": [
    "### Simple Python Calculator\n",
    "\n",
    "- This function asks the user to input two numbers and an operation (+, -, *, /).\n",
    "- It checks which operation to perform using conditional statements.\n",
    "- It handles division by zero error to avoid crashing.\n",
    "- Finally, it prints the result or error messages.\n",
    "- This demonstrates understanding of Python basics and interactive programming.\n"
   ]
  },
  {
   "cell_type": "code",
   "execution_count": 6,
   "id": "a36717c6-474a-4e3f-91b2-97634c7f92e5",
   "metadata": {},
   "outputs": [
    {
     "data": {
      "text/html": [
       "<div>\n",
       "<style scoped>\n",
       "    .dataframe tbody tr th:only-of-type {\n",
       "        vertical-align: middle;\n",
       "    }\n",
       "\n",
       "    .dataframe tbody tr th {\n",
       "        vertical-align: top;\n",
       "    }\n",
       "\n",
       "    .dataframe thead th {\n",
       "        text-align: right;\n",
       "    }\n",
       "</style>\n",
       "<table border=\"1\" class=\"dataframe\">\n",
       "  <thead>\n",
       "    <tr style=\"text-align: right;\">\n",
       "      <th></th>\n",
       "      <th>Age</th>\n",
       "      <th>Score</th>\n",
       "    </tr>\n",
       "  </thead>\n",
       "  <tbody>\n",
       "    <tr>\n",
       "      <th>0</th>\n",
       "      <td>25</td>\n",
       "      <td>88</td>\n",
       "    </tr>\n",
       "    <tr>\n",
       "      <th>1</th>\n",
       "      <td>30</td>\n",
       "      <td>92</td>\n",
       "    </tr>\n",
       "    <tr>\n",
       "      <th>2</th>\n",
       "      <td>22</td>\n",
       "      <td>79</td>\n",
       "    </tr>\n",
       "    <tr>\n",
       "      <th>3</th>\n",
       "      <td>40</td>\n",
       "      <td>95</td>\n",
       "    </tr>\n",
       "    <tr>\n",
       "      <th>4</th>\n",
       "      <td>28</td>\n",
       "      <td>85</td>\n",
       "    </tr>\n",
       "    <tr>\n",
       "      <th>5</th>\n",
       "      <td>30</td>\n",
       "      <td>92</td>\n",
       "    </tr>\n",
       "    <tr>\n",
       "      <th>6</th>\n",
       "      <td>22</td>\n",
       "      <td>79</td>\n",
       "    </tr>\n",
       "    <tr>\n",
       "      <th>7</th>\n",
       "      <td>25</td>\n",
       "      <td>88</td>\n",
       "    </tr>\n",
       "  </tbody>\n",
       "</table>\n",
       "</div>"
      ],
      "text/plain": [
       "   Age  Score\n",
       "0   25     88\n",
       "1   30     92\n",
       "2   22     79\n",
       "3   40     95\n",
       "4   28     85\n",
       "5   30     92\n",
       "6   22     79\n",
       "7   25     88"
      ]
     },
     "execution_count": 6,
     "metadata": {},
     "output_type": "execute_result"
    }
   ],
   "source": [
    "import pandas as pd\n",
    "from statistics import mode\n",
    "\n",
    "data = {\n",
    "    'Age': [25, 30, 22, 40, 28, 30, 22, 25],\n",
    "    'Score': [88, 92, 79, 95, 85, 92, 79, 88]\n",
    "}\n",
    "\n",
    "df = pd.DataFrame(data)\n",
    "df\n"
   ]
  },
  {
   "cell_type": "markdown",
   "id": "8a3d27a7-30b3-4446-bf49-ef8f0dfe5f9a",
   "metadata": {},
   "source": [
    "### Sample Data Creation\n",
    "\n",
    "- We created a small dataset with two columns: `Age` and `Score`.\n",
    "- This simulates real data in a CSV file.\n",
    "- Using pandas DataFrame allows easy manipulation and analysis of tabular data.\n"
   ]
  },
  {
   "cell_type": "code",
   "execution_count": 8,
   "id": "86b1df52-1dae-4780-bc94-88d521945393",
   "metadata": {},
   "outputs": [
    {
     "name": "stdout",
     "output_type": "stream",
     "text": [
      "Age - Mean: 27.75, Median: 26.5, Mode: 25\n",
      "Score - Mean: 87.25, Median: 88.0, Mode: 88\n"
     ]
    }
   ],
   "source": [
    "mean_age = df['Age'].mean()\n",
    "median_age = df['Age'].median()\n",
    "mode_age = mode(df['Age'])\n",
    "\n",
    "mean_score = df['Score'].mean()\n",
    "median_score = df['Score'].median()\n",
    "mode_score = mode(df['Score'])\n",
    "\n",
    "print(f\"Age - Mean: {mean_age}, Median: {median_age}, Mode: {mode_age}\")\n",
    "print(f\"Score - Mean: {mean_score}, Median: {median_score}, Mode: {mode_score}\")\n"
   ]
  },
  {
   "cell_type": "markdown",
   "id": "245182b9-74c8-4c41-81e9-c3c6be55f85a",
   "metadata": {},
   "source": [
    "### Basic Data Analysis\n",
    "\n",
    "- **Mean:** The average of all values in a column.\n",
    "- **Median:** The middle value when data is sorted.\n",
    "- **Mode:** The most frequently occurring value.\n",
    "\n",
    "Calculating these statistics helps us quickly understand the distribution and common values in the dataset.\n"
   ]
  },
  {
   "cell_type": "code",
   "execution_count": null,
   "id": "f4efc880-ccbb-4bac-b910-f271033955c2",
   "metadata": {},
   "outputs": [],
   "source": []
  }
 ],
 "metadata": {
  "kernelspec": {
   "display_name": "Python [conda env:base] *",
   "language": "python",
   "name": "conda-base-py"
  },
  "language_info": {
   "codemirror_mode": {
    "name": "ipython",
    "version": 3
   },
   "file_extension": ".py",
   "mimetype": "text/x-python",
   "name": "python",
   "nbconvert_exporter": "python",
   "pygments_lexer": "ipython3",
   "version": "3.12.7"
  }
 },
 "nbformat": 4,
 "nbformat_minor": 5
}
