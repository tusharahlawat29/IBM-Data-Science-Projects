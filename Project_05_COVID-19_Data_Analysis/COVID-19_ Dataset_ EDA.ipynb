{
 "cells": [
  {
   "cell_type": "markdown",
   "id": "668bb66c-597b-4be7-b6e8-d846dd23ac60",
   "metadata": {},
   "source": [
    "# Project 05: COVID-19 Dataset Exploratory Data Analysis (EDA)\n",
    "\n",
    "## Overview\n",
    "In this project, we analyze a COVID-19 dataset to understand the trends, patterns, and impact of the pandemic using Python's data analysis libraries.\n",
    "\n",
    "## Objective\n",
    "- Load and explore the COVID-19 dataset.\n",
    "- Perform data cleaning.\n",
    "- Visualize trends in cases, deaths, and recoveries.\n",
    "- Analyze countries most affected.\n",
    "- Understand time-based progression of the pandemic.\n"
   ]
  },
  {
   "cell_type": "markdown",
   "id": "bda78994-347c-4970-96f4-cf63a19783e2",
   "metadata": {},
   "source": [
    "## Step 1: Importing necessary libraries\n",
    "We import Pandas for data manipulation, Seaborn and Matplotlib for visualizations.\n",
    "\n"
   ]
  },
  {
   "cell_type": "code",
   "execution_count": 14,
   "id": "53e6991a-4206-4091-829e-56dcdc4fe137",
   "metadata": {},
   "outputs": [],
   "source": [
    "import pandas as pd\n",
    "import matplotlib.pyplot as plt\n",
    "import seaborn as sns\n",
    "\n",
    "%matplotlib inline\n",
    "sns.set(style=\"darkgrid\")"
   ]
  },
  {
   "cell_type": "markdown",
   "id": "d843cb55-f594-4ea7-8688-c3c60fce106c",
   "metadata": {},
   "source": [
    "## Step 2: Load Dataset\n",
    "\n",
    "We load the COVID-19 dataset directly from a web URL using pandas.\n"
   ]
  },
  {
   "cell_type": "code",
   "execution_count": 15,
   "id": "b926a7a9-28a8-419a-850e-4498f922bebe",
   "metadata": {},
   "outputs": [
    {
     "data": {
      "text/html": [
       "<div>\n",
       "<style scoped>\n",
       "    .dataframe tbody tr th:only-of-type {\n",
       "        vertical-align: middle;\n",
       "    }\n",
       "\n",
       "    .dataframe tbody tr th {\n",
       "        vertical-align: top;\n",
       "    }\n",
       "\n",
       "    .dataframe thead th {\n",
       "        text-align: right;\n",
       "    }\n",
       "</style>\n",
       "<table border=\"1\" class=\"dataframe\">\n",
       "  <thead>\n",
       "    <tr style=\"text-align: right;\">\n",
       "      <th></th>\n",
       "      <th>Date</th>\n",
       "      <th>Country</th>\n",
       "      <th>Confirmed</th>\n",
       "      <th>Recovered</th>\n",
       "      <th>Deaths</th>\n",
       "    </tr>\n",
       "  </thead>\n",
       "  <tbody>\n",
       "    <tr>\n",
       "      <th>0</th>\n",
       "      <td>2020-01-22</td>\n",
       "      <td>Afghanistan</td>\n",
       "      <td>0</td>\n",
       "      <td>0</td>\n",
       "      <td>0</td>\n",
       "    </tr>\n",
       "    <tr>\n",
       "      <th>1</th>\n",
       "      <td>2020-01-23</td>\n",
       "      <td>Afghanistan</td>\n",
       "      <td>0</td>\n",
       "      <td>0</td>\n",
       "      <td>0</td>\n",
       "    </tr>\n",
       "    <tr>\n",
       "      <th>2</th>\n",
       "      <td>2020-01-24</td>\n",
       "      <td>Afghanistan</td>\n",
       "      <td>0</td>\n",
       "      <td>0</td>\n",
       "      <td>0</td>\n",
       "    </tr>\n",
       "    <tr>\n",
       "      <th>3</th>\n",
       "      <td>2020-01-25</td>\n",
       "      <td>Afghanistan</td>\n",
       "      <td>0</td>\n",
       "      <td>0</td>\n",
       "      <td>0</td>\n",
       "    </tr>\n",
       "    <tr>\n",
       "      <th>4</th>\n",
       "      <td>2020-01-26</td>\n",
       "      <td>Afghanistan</td>\n",
       "      <td>0</td>\n",
       "      <td>0</td>\n",
       "      <td>0</td>\n",
       "    </tr>\n",
       "    <tr>\n",
       "      <th>...</th>\n",
       "      <td>...</td>\n",
       "      <td>...</td>\n",
       "      <td>...</td>\n",
       "      <td>...</td>\n",
       "      <td>...</td>\n",
       "    </tr>\n",
       "    <tr>\n",
       "      <th>161563</th>\n",
       "      <td>2022-04-12</td>\n",
       "      <td>Zimbabwe</td>\n",
       "      <td>247094</td>\n",
       "      <td>0</td>\n",
       "      <td>5460</td>\n",
       "    </tr>\n",
       "    <tr>\n",
       "      <th>161564</th>\n",
       "      <td>2022-04-13</td>\n",
       "      <td>Zimbabwe</td>\n",
       "      <td>247160</td>\n",
       "      <td>0</td>\n",
       "      <td>5460</td>\n",
       "    </tr>\n",
       "    <tr>\n",
       "      <th>161565</th>\n",
       "      <td>2022-04-14</td>\n",
       "      <td>Zimbabwe</td>\n",
       "      <td>247208</td>\n",
       "      <td>0</td>\n",
       "      <td>5462</td>\n",
       "    </tr>\n",
       "    <tr>\n",
       "      <th>161566</th>\n",
       "      <td>2022-04-15</td>\n",
       "      <td>Zimbabwe</td>\n",
       "      <td>247237</td>\n",
       "      <td>0</td>\n",
       "      <td>5462</td>\n",
       "    </tr>\n",
       "    <tr>\n",
       "      <th>161567</th>\n",
       "      <td>2022-04-16</td>\n",
       "      <td>Zimbabwe</td>\n",
       "      <td>247237</td>\n",
       "      <td>0</td>\n",
       "      <td>5462</td>\n",
       "    </tr>\n",
       "  </tbody>\n",
       "</table>\n",
       "<p>161568 rows × 5 columns</p>\n",
       "</div>"
      ],
      "text/plain": [
       "              Date      Country  Confirmed  Recovered  Deaths\n",
       "0       2020-01-22  Afghanistan          0          0       0\n",
       "1       2020-01-23  Afghanistan          0          0       0\n",
       "2       2020-01-24  Afghanistan          0          0       0\n",
       "3       2020-01-25  Afghanistan          0          0       0\n",
       "4       2020-01-26  Afghanistan          0          0       0\n",
       "...            ...          ...        ...        ...     ...\n",
       "161563  2022-04-12     Zimbabwe     247094          0    5460\n",
       "161564  2022-04-13     Zimbabwe     247160          0    5460\n",
       "161565  2022-04-14     Zimbabwe     247208          0    5462\n",
       "161566  2022-04-15     Zimbabwe     247237          0    5462\n",
       "161567  2022-04-16     Zimbabwe     247237          0    5462\n",
       "\n",
       "[161568 rows x 5 columns]"
      ]
     },
     "execution_count": 15,
     "metadata": {},
     "output_type": "execute_result"
    }
   ],
   "source": [
    "import pandas as pd\n",
    "\n",
    "url = 'https://raw.githubusercontent.com/datasets/covid-19/main/data/countries-aggregated.csv'\n",
    "covid_df = pd.read_csv(url)\n",
    "covid_df\n"
   ]
  },
  {
   "cell_type": "markdown",
   "id": "55b26e59-88fc-4992-8be4-ab8c15861825",
   "metadata": {},
   "source": [
    "## Step 3: Dataset Info\n",
    "\n",
    "We inspect column names, data types, and null values to understand the structure.\n",
    "\n"
   ]
  },
  {
   "cell_type": "code",
   "execution_count": 16,
   "id": "14c19b57-dcb9-49fe-980c-4b35033d5b17",
   "metadata": {},
   "outputs": [
    {
     "name": "stdout",
     "output_type": "stream",
     "text": [
      "<class 'pandas.core.frame.DataFrame'>\n",
      "RangeIndex: 161568 entries, 0 to 161567\n",
      "Data columns (total 5 columns):\n",
      " #   Column     Non-Null Count   Dtype \n",
      "---  ------     --------------   ----- \n",
      " 0   Date       161568 non-null  object\n",
      " 1   Country    161568 non-null  object\n",
      " 2   Confirmed  161568 non-null  int64 \n",
      " 3   Recovered  161568 non-null  int64 \n",
      " 4   Deaths     161568 non-null  int64 \n",
      "dtypes: int64(3), object(2)\n",
      "memory usage: 6.2+ MB\n"
     ]
    }
   ],
   "source": [
    "covid_df.info()"
   ]
  },
  {
   "cell_type": "markdown",
   "id": "c0b20a77-df2b-4150-b0d7-bb0e0305f6cf",
   "metadata": {},
   "source": [
    "## Step 4: Missing Values\n",
    "\n",
    "We check if there are any null or missing values that require handling."
   ]
  },
  {
   "cell_type": "code",
   "execution_count": 17,
   "id": "35e64997-a269-4a0f-b5a6-ed74fc66d695",
   "metadata": {},
   "outputs": [
    {
     "data": {
      "text/plain": [
       "Date         0\n",
       "Country      0\n",
       "Confirmed    0\n",
       "Recovered    0\n",
       "Deaths       0\n",
       "dtype: int64"
      ]
     },
     "execution_count": 17,
     "metadata": {},
     "output_type": "execute_result"
    }
   ],
   "source": [
    "covid_df.isnull().sum()"
   ]
  },
  {
   "cell_type": "markdown",
   "id": "3f4a9f13-5f3f-46dd-b792-9dd7293d8aa3",
   "metadata": {},
   "source": [
    "## Step 5: Convert Date Column\n",
    "\n",
    "We convert the `Date` column to datetime format to facilitate time-series analysis.\n"
   ]
  },
  {
   "cell_type": "code",
   "execution_count": 18,
   "id": "a8b66a86-46b9-4096-a5c6-417b9b92d19c",
   "metadata": {},
   "outputs": [
    {
     "name": "stdout",
     "output_type": "stream",
     "text": [
      "<class 'pandas.core.frame.DataFrame'>\n",
      "RangeIndex: 161568 entries, 0 to 161567\n",
      "Data columns (total 5 columns):\n",
      " #   Column     Non-Null Count   Dtype         \n",
      "---  ------     --------------   -----         \n",
      " 0   Date       161568 non-null  datetime64[ns]\n",
      " 1   Country    161568 non-null  object        \n",
      " 2   Confirmed  161568 non-null  int64         \n",
      " 3   Recovered  161568 non-null  int64         \n",
      " 4   Deaths     161568 non-null  int64         \n",
      "dtypes: datetime64[ns](1), int64(3), object(1)\n",
      "memory usage: 6.2+ MB\n"
     ]
    }
   ],
   "source": [
    "covid_df['Date'] = pd.to_datetime(covid_df['Date'])\n",
    "covid_df.info()"
   ]
  },
  {
   "cell_type": "markdown",
   "id": "f170014c-9722-4f01-8fbd-1bdd20bc7837",
   "metadata": {},
   "source": [
    "## Step 6: Global Aggregation\n",
    "\n",
    "We group the dataset by `Date` to track total global numbers for Confirmed and Deaths.\n"
   ]
  },
  {
   "cell_type": "code",
   "execution_count": 19,
   "id": "17139292-5078-419a-8d9a-a49b611dd977",
   "metadata": {},
   "outputs": [
    {
     "data": {
      "text/html": [
       "<div>\n",
       "<style scoped>\n",
       "    .dataframe tbody tr th:only-of-type {\n",
       "        vertical-align: middle;\n",
       "    }\n",
       "\n",
       "    .dataframe tbody tr th {\n",
       "        vertical-align: top;\n",
       "    }\n",
       "\n",
       "    .dataframe thead th {\n",
       "        text-align: right;\n",
       "    }\n",
       "</style>\n",
       "<table border=\"1\" class=\"dataframe\">\n",
       "  <thead>\n",
       "    <tr style=\"text-align: right;\">\n",
       "      <th></th>\n",
       "      <th>Date</th>\n",
       "      <th>Country</th>\n",
       "      <th>Confirmed</th>\n",
       "      <th>Recovered</th>\n",
       "      <th>Deaths</th>\n",
       "    </tr>\n",
       "  </thead>\n",
       "  <tbody>\n",
       "    <tr>\n",
       "      <th>0</th>\n",
       "      <td>2020-01-22</td>\n",
       "      <td>AfghanistanAlbaniaAlgeriaAndorraAngolaAntarcti...</td>\n",
       "      <td>557</td>\n",
       "      <td>30</td>\n",
       "      <td>17</td>\n",
       "    </tr>\n",
       "    <tr>\n",
       "      <th>1</th>\n",
       "      <td>2020-01-23</td>\n",
       "      <td>AfghanistanAlbaniaAlgeriaAndorraAngolaAntarcti...</td>\n",
       "      <td>657</td>\n",
       "      <td>32</td>\n",
       "      <td>18</td>\n",
       "    </tr>\n",
       "    <tr>\n",
       "      <th>2</th>\n",
       "      <td>2020-01-24</td>\n",
       "      <td>AfghanistanAlbaniaAlgeriaAndorraAngolaAntarcti...</td>\n",
       "      <td>944</td>\n",
       "      <td>39</td>\n",
       "      <td>26</td>\n",
       "    </tr>\n",
       "    <tr>\n",
       "      <th>3</th>\n",
       "      <td>2020-01-25</td>\n",
       "      <td>AfghanistanAlbaniaAlgeriaAndorraAngolaAntarcti...</td>\n",
       "      <td>1437</td>\n",
       "      <td>42</td>\n",
       "      <td>42</td>\n",
       "    </tr>\n",
       "    <tr>\n",
       "      <th>4</th>\n",
       "      <td>2020-01-26</td>\n",
       "      <td>AfghanistanAlbaniaAlgeriaAndorraAngolaAntarcti...</td>\n",
       "      <td>2120</td>\n",
       "      <td>56</td>\n",
       "      <td>56</td>\n",
       "    </tr>\n",
       "  </tbody>\n",
       "</table>\n",
       "</div>"
      ],
      "text/plain": [
       "        Date                                            Country  Confirmed  \\\n",
       "0 2020-01-22  AfghanistanAlbaniaAlgeriaAndorraAngolaAntarcti...        557   \n",
       "1 2020-01-23  AfghanistanAlbaniaAlgeriaAndorraAngolaAntarcti...        657   \n",
       "2 2020-01-24  AfghanistanAlbaniaAlgeriaAndorraAngolaAntarcti...        944   \n",
       "3 2020-01-25  AfghanistanAlbaniaAlgeriaAndorraAngolaAntarcti...       1437   \n",
       "4 2020-01-26  AfghanistanAlbaniaAlgeriaAndorraAngolaAntarcti...       2120   \n",
       "\n",
       "   Recovered  Deaths  \n",
       "0         30      17  \n",
       "1         32      18  \n",
       "2         39      26  \n",
       "3         42      42  \n",
       "4         56      56  "
      ]
     },
     "execution_count": 19,
     "metadata": {},
     "output_type": "execute_result"
    }
   ],
   "source": [
    "global_daily = covid_df.groupby('Date').sum().reset_index()\n",
    "global_daily.head()"
   ]
  },
  {
   "cell_type": "markdown",
   "id": "3976004f-19a2-400d-b955-eb48fdcb0c85",
   "metadata": {},
   "source": [
    "## Step 7: Time-Series Plot of Global Cases\n",
    "\n",
    "This line plot shows how COVID-19 confirmed and death counts evolved globally over time.\n"
   ]
  },
  {
   "cell_type": "code",
   "execution_count": 20,
   "id": "e302ce59-dbe2-421b-9836-99163069a6de",
   "metadata": {},
   "outputs": [
    {
     "data": {
      "image/png": "[encoded data removed]",
      "text/plain": [
       "<Figure size 1400x600 with 1 Axes>"
      ]
     },
     "metadata": {},
     "output_type": "display_data"
    }
   ],
   "source": [
    "plt.figure(figsize=(14,6))\n",
    "plt.plot(global_daily['Date'], global_daily['Confirmed'], label='Confirmed', color='blue')\n",
    "plt.plot(global_daily['Date'], global_daily['Deaths'], label='Deaths', color='red')\n",
    "plt.title('Global COVID-19 Confirmed and Deaths Over Time')\n",
    "plt.xlabel('Date')\n",
    "plt.ylabel('Number of Cases')\n",
    "plt.legend()\n",
    "plt.grid(True)\n",
    "plt.show()\n"
   ]
  },
  {
   "cell_type": "markdown",
   "id": "f84c78ee-955a-4a47-8763-e30dfd8c13cf",
   "metadata": {},
   "source": [
    "## Step 8: Latest Country-wise Summary\n",
    "\n",
    "We isolate data from the most recent date and sort countries by total confirmed cases.\n"
   ]
  },
  {
   "cell_type": "code",
   "execution_count": 24,
   "id": "5b7463c8-6ca4-498f-8c67-d938764c4523",
   "metadata": {},
   "outputs": [
    {
     "data": {
      "text/html": [
       "<div>\n",
       "<style scoped>\n",
       "    .dataframe tbody tr th:only-of-type {\n",
       "        vertical-align: middle;\n",
       "    }\n",
       "\n",
       "    .dataframe tbody tr th {\n",
       "        vertical-align: top;\n",
       "    }\n",
       "\n",
       "    .dataframe thead th {\n",
       "        text-align: right;\n",
       "    }\n",
       "</style>\n",
       "<table border=\"1\" class=\"dataframe\">\n",
       "  <thead>\n",
       "    <tr style=\"text-align: right;\">\n",
       "      <th></th>\n",
       "      <th>Country</th>\n",
       "      <th>Confirmed</th>\n",
       "      <th>Deaths</th>\n",
       "    </tr>\n",
       "  </thead>\n",
       "  <tbody>\n",
       "    <tr>\n",
       "      <th>150143</th>\n",
       "      <td>US</td>\n",
       "      <td>80625120</td>\n",
       "      <td>988609</td>\n",
       "    </tr>\n",
       "    <tr>\n",
       "      <th>66095</th>\n",
       "      <td>India</td>\n",
       "      <td>43042097</td>\n",
       "      <td>521751</td>\n",
       "    </tr>\n",
       "    <tr>\n",
       "      <th>20399</th>\n",
       "      <td>Brazil</td>\n",
       "      <td>30250077</td>\n",
       "      <td>662185</td>\n",
       "    </tr>\n",
       "    <tr>\n",
       "      <th>52223</th>\n",
       "      <td>France</td>\n",
       "      <td>27874269</td>\n",
       "      <td>145159</td>\n",
       "    </tr>\n",
       "    <tr>\n",
       "      <th>55487</th>\n",
       "      <td>Germany</td>\n",
       "      <td>23416663</td>\n",
       "      <td>132942</td>\n",
       "    </tr>\n",
       "    <tr>\n",
       "      <th>153407</th>\n",
       "      <td>United Kingdom</td>\n",
       "      <td>21916961</td>\n",
       "      <td>172014</td>\n",
       "    </tr>\n",
       "    <tr>\n",
       "      <th>119135</th>\n",
       "      <td>Russia</td>\n",
       "      <td>17801103</td>\n",
       "      <td>365774</td>\n",
       "    </tr>\n",
       "    <tr>\n",
       "      <th>76703</th>\n",
       "      <td>Korea, South</td>\n",
       "      <td>16305752</td>\n",
       "      <td>21092</td>\n",
       "    </tr>\n",
       "    <tr>\n",
       "      <th>70991</th>\n",
       "      <td>Italy</td>\n",
       "      <td>15659835</td>\n",
       "      <td>161602</td>\n",
       "    </tr>\n",
       "    <tr>\n",
       "      <th>149327</th>\n",
       "      <td>Turkey</td>\n",
       "      <td>14991669</td>\n",
       "      <td>98551</td>\n",
       "    </tr>\n",
       "    <tr>\n",
       "      <th>135455</th>\n",
       "      <td>Spain</td>\n",
       "      <td>11627487</td>\n",
       "      <td>103104</td>\n",
       "    </tr>\n",
       "    <tr>\n",
       "      <th>157487</th>\n",
       "      <td>Vietnam</td>\n",
       "      <td>10417887</td>\n",
       "      <td>42934</td>\n",
       "    </tr>\n",
       "    <tr>\n",
       "      <th>6527</th>\n",
       "      <td>Argentina</td>\n",
       "      <td>9060495</td>\n",
       "      <td>128344</td>\n",
       "    </tr>\n",
       "    <tr>\n",
       "      <th>103631</th>\n",
       "      <td>Netherlands</td>\n",
       "      <td>8194946</td>\n",
       "      <td>22780</td>\n",
       "    </tr>\n",
       "    <tr>\n",
       "      <th>72623</th>\n",
       "      <td>Japan</td>\n",
       "      <td>7332261</td>\n",
       "      <td>28998</td>\n",
       "    </tr>\n",
       "  </tbody>\n",
       "</table>\n",
       "</div>"
      ],
      "text/plain": [
       "               Country  Confirmed  Deaths\n",
       "150143              US   80625120  988609\n",
       "66095            India   43042097  521751\n",
       "20399           Brazil   30250077  662185\n",
       "52223           France   27874269  145159\n",
       "55487          Germany   23416663  132942\n",
       "153407  United Kingdom   21916961  172014\n",
       "119135          Russia   17801103  365774\n",
       "76703     Korea, South   16305752   21092\n",
       "70991            Italy   15659835  161602\n",
       "149327          Turkey   14991669   98551\n",
       "135455           Spain   11627487  103104\n",
       "157487         Vietnam   10417887   42934\n",
       "6527         Argentina    9060495  128344\n",
       "103631     Netherlands    8194946   22780\n",
       "72623            Japan    7332261   28998"
      ]
     },
     "execution_count": 24,
     "metadata": {},
     "output_type": "execute_result"
    }
   ],
   "source": [
    "latest = covid_df[covid_df['Date'] == covid_df['Date'].max()]\n",
    "latest_sorted = latest.sort_values(by='Confirmed', ascending=False).head(15)\n",
    "latest_sorted[['Country', 'Confirmed', 'Deaths']]"
   ]
  },
  {
   "cell_type": "markdown",
   "id": "1aac5f08-9ef3-4f31-b42d-5d3883edb2ed",
   "metadata": {},
   "source": [
    "## Step 9: Top 15 Countries\n",
    "\n",
    "This horizontal bar chart visualizes the 15 most affected countries by confirmed case count.\n"
   ]
  },
  {
   "cell_type": "code",
   "execution_count": 35,
   "id": "b2488866-2e3b-4950-a2a0-cb6387366fd6",
   "metadata": {},
   "outputs": [
    {
     "data": {
      "image/png": "[encoded data removed]",
      "text/plain": [
       "<Figure size 1200x600 with 1 Axes>"
      ]
     },
     "metadata": {},
     "output_type": "display_data"
    }
   ],
   "source": [
    "plt.figure(figsize=(12,6))\n",
    "sns.barplot(x='Confirmed', y='Country',hue='Country', data=latest_sorted, palette='Oranges_r',dodge=False, legend=False)\n",
    "plt.title('Top 15 Countries with Most Confirmed COVID-19 Cases')\n",
    "plt.xlabel('Confirmed Cases')\n",
    "plt.ylabel('Country')\n",
    "plt.show()\n"
   ]
  },
  {
   "cell_type": "markdown",
   "id": "c3e374e3-e6b8-4bc7-9b7c-0dbdaa3afab7",
   "metadata": {},
   "source": [
    "## Step 10: Death Rate Calculation\n",
    "\n",
    "We calculate the death rate as:  \n",
    "**Death Rate = (Deaths / Confirmed) × 100**\n"
   ]
  },
  {
   "cell_type": "code",
   "execution_count": 31,
   "id": "61be5ecb-49ad-414d-959d-b04f32ce551d",
   "metadata": {},
   "outputs": [
    {
     "data": {
      "text/html": [
       "<div>\n",
       "<style scoped>\n",
       "    .dataframe tbody tr th:only-of-type {\n",
       "        vertical-align: middle;\n",
       "    }\n",
       "\n",
       "    .dataframe tbody tr th {\n",
       "        vertical-align: top;\n",
       "    }\n",
       "\n",
       "    .dataframe thead th {\n",
       "        text-align: right;\n",
       "    }\n",
       "</style>\n",
       "<table border=\"1\" class=\"dataframe\">\n",
       "  <thead>\n",
       "    <tr style=\"text-align: right;\">\n",
       "      <th></th>\n",
       "      <th>Country</th>\n",
       "      <th>Death Rate (%)</th>\n",
       "    </tr>\n",
       "  </thead>\n",
       "  <tbody>\n",
       "    <tr>\n",
       "      <th>150143</th>\n",
       "      <td>US</td>\n",
       "      <td>1.226180</td>\n",
       "    </tr>\n",
       "    <tr>\n",
       "      <th>66095</th>\n",
       "      <td>India</td>\n",
       "      <td>1.212188</td>\n",
       "    </tr>\n",
       "    <tr>\n",
       "      <th>20399</th>\n",
       "      <td>Brazil</td>\n",
       "      <td>2.189036</td>\n",
       "    </tr>\n",
       "    <tr>\n",
       "      <th>52223</th>\n",
       "      <td>France</td>\n",
       "      <td>0.520763</td>\n",
       "    </tr>\n",
       "    <tr>\n",
       "      <th>55487</th>\n",
       "      <td>Germany</td>\n",
       "      <td>0.567724</td>\n",
       "    </tr>\n",
       "    <tr>\n",
       "      <th>153407</th>\n",
       "      <td>United Kingdom</td>\n",
       "      <td>0.784844</td>\n",
       "    </tr>\n",
       "    <tr>\n",
       "      <th>119135</th>\n",
       "      <td>Russia</td>\n",
       "      <td>2.054783</td>\n",
       "    </tr>\n",
       "    <tr>\n",
       "      <th>76703</th>\n",
       "      <td>Korea, South</td>\n",
       "      <td>0.129353</td>\n",
       "    </tr>\n",
       "    <tr>\n",
       "      <th>70991</th>\n",
       "      <td>Italy</td>\n",
       "      <td>1.031952</td>\n",
       "    </tr>\n",
       "    <tr>\n",
       "      <th>149327</th>\n",
       "      <td>Turkey</td>\n",
       "      <td>0.657372</td>\n",
       "    </tr>\n",
       "    <tr>\n",
       "      <th>135455</th>\n",
       "      <td>Spain</td>\n",
       "      <td>0.886726</td>\n",
       "    </tr>\n",
       "    <tr>\n",
       "      <th>157487</th>\n",
       "      <td>Vietnam</td>\n",
       "      <td>0.412118</td>\n",
       "    </tr>\n",
       "    <tr>\n",
       "      <th>6527</th>\n",
       "      <td>Argentina</td>\n",
       "      <td>1.416523</td>\n",
       "    </tr>\n",
       "    <tr>\n",
       "      <th>103631</th>\n",
       "      <td>Netherlands</td>\n",
       "      <td>0.277976</td>\n",
       "    </tr>\n",
       "    <tr>\n",
       "      <th>72623</th>\n",
       "      <td>Japan</td>\n",
       "      <td>0.395485</td>\n",
       "    </tr>\n",
       "  </tbody>\n",
       "</table>\n",
       "</div>"
      ],
      "text/plain": [
       "               Country  Death Rate (%)\n",
       "150143              US        1.226180\n",
       "66095            India        1.212188\n",
       "20399           Brazil        2.189036\n",
       "52223           France        0.520763\n",
       "55487          Germany        0.567724\n",
       "153407  United Kingdom        0.784844\n",
       "119135          Russia        2.054783\n",
       "76703     Korea, South        0.129353\n",
       "70991            Italy        1.031952\n",
       "149327          Turkey        0.657372\n",
       "135455           Spain        0.886726\n",
       "157487         Vietnam        0.412118\n",
       "6527         Argentina        1.416523\n",
       "103631     Netherlands        0.277976\n",
       "72623            Japan        0.395485"
      ]
     },
     "execution_count": 31,
     "metadata": {},
     "output_type": "execute_result"
    }
   ],
   "source": [
    "latest_sorted['Death Rate (%)'] = (latest_sorted['Deaths'] / latest_sorted['Confirmed']) * 100\n",
    "latest_sorted[['Country', 'Death Rate (%)']]"
   ]
  },
  {
   "cell_type": "markdown",
   "id": "ebe062ef-87d4-4f04-9a03-0f96dd4eb775",
   "metadata": {},
   "source": [
    "## Step 11: Visualize Death Rates\n",
    "\n",
    "This chart shows which countries had the highest COVID-19 death rates relative to their confirmed cases."
   ]
  },
  {
   "cell_type": "code",
   "execution_count": 36,
   "id": "2efed3ab-a8b6-4139-8c2d-4e5b9c1c27b9",
   "metadata": {},
   "outputs": [
    {
     "data": {
      "image/png": "[encoded data removed]",
      "text/plain": [
       "<Figure size 1200x600 with 1 Axes>"
      ]
     },
     "metadata": {},
     "output_type": "display_data"
    }
   ],
   "source": [
    "plt.figure(figsize=(12,6))\n",
    "sns.barplot(x='Death Rate (%)', y='Country',hue='Country', data=latest_sorted, palette='Reds',legend=False, dodge=False)\n",
    "plt.title('COVID-19 Death Rates in Top 15 Countries')\n",
    "plt.xlabel('Death Rate (%)')\n",
    "plt.ylabel('Country')\n",
    "plt.show()\n"
   ]
  },
  {
   "cell_type": "code",
   "execution_count": null,
   "id": "30a4d4b4-8688-405c-a7bc-9ca169375be6",
   "metadata": {},
   "outputs": [],
   "source": []
  }
 ],
 "metadata": {
  "kernelspec": {
   "display_name": "Python [conda env:base] *",
   "language": "python",
   "name": "conda-base-py"
  },
  "language_info": {
   "codemirror_mode": {
    "name": "ipython",
    "version": 3
   },
   "file_extension": ".py",
   "mimetype": "text/x-python",
   "name": "python",
   "nbconvert_exporter": "python",
   "pygments_lexer": "ipython3",
   "version": "3.12.7"
  }
 },
 "nbformat": 4,
 "nbformat_minor": 5
}
